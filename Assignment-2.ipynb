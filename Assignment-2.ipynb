{
 "cells": [
  {
   "cell_type": "markdown",
   "metadata": {},
   "source": [
    "# 1.1 Write a Python Program to implement your own myreduce() function which works exactly like Python's built-in function reduce()"
   ]
  },
  {
   "cell_type": "code",
   "execution_count": 11,
   "metadata": {},
   "outputs": [],
   "source": [
    "# Sum of two number\n",
    "def sum(x,y): \n",
    "    return x + y\n",
    "\n",
    "# myReduce function\n",
    "def myreduce(gfun, myseq):\n",
    "    s = 0\n",
    "    for z in myseq:\n",
    "        s = gfun(s, z)\n",
    "    \n",
    "    return s\n"
   ]
  },
  {
   "cell_type": "code",
   "execution_count": 12,
   "metadata": {},
   "outputs": [
    {
     "name": "stdout",
     "output_type": "stream",
     "text": [
      "My Reduce function Result: 10\n"
     ]
    }
   ],
   "source": [
    "print(\"My Reduce function Result: {}\".format(myreduce(sum, [1,2,3,4])))\n"
   ]
  },
  {
   "cell_type": "markdown",
   "metadata": {},
   "source": [
    "# 1.2 Write a Python program to implement your own myfilter() function which works exactly like Python's built-in function filter()"
   ]
  },
  {
   "cell_type": "code",
   "execution_count": 13,
   "metadata": {},
   "outputs": [],
   "source": [
    "# My filter function \n",
    "def myfilter(anyfunc, sequence):\n",
    "    # Initialize empty list\n",
    "    seq = []    \n",
    "    # iterate over sequence of items in sequence and apply filter function\n",
    "    for item in sequence:\n",
    "        if anyfunc(item):\n",
    "            seq.append(item)\n",
    "    # return funal output\n",
    "    return seq\n",
    "\n",
    "# myfilter Calling Function\n",
    "def func(x):\n",
    "    if x>=3:\n",
    "        return x"
   ]
  },
  {
   "cell_type": "code",
   "execution_count": 14,
   "metadata": {},
   "outputs": [
    {
     "name": "stdout",
     "output_type": "stream",
     "text": [
      "My filter function Result: [3, 4, 10, 11, 12]\n"
     ]
    }
   ],
   "source": [
    "print(\"My filter function Result: {}\".format(myfilter(func, [1,2,3,-3,4,-5,10,-10,11,12])))"
   ]
  },
  {
   "cell_type": "markdown",
   "metadata": {},
   "source": [
    "# 2.\n",
    "# Implement List comprehensions to produce the following lists.\n",
    "# Write List comprehensions to produce the following Lists\n",
    "# ['A', 'C', 'A', 'D', 'G', 'I', ’L’, ‘ D’]\n",
    "# ['x', 'xx', 'xxx', 'xxxx', 'y', 'yy', 'yyy', 'yyyy', 'z', 'zz', 'zzz', 'zzzz']\n",
    "# ['x', 'y', 'z', 'xx', 'yy', 'zz', 'xx', 'yy', 'zz', 'xxxx', 'yyyy', 'zzzz']\n",
    "# [[2], [3], [4], [3], [4], [5], [4], [5], [6]]\n",
    "# [[2, 3, 4, 5], [3, 4, 5, 6], [4, 5, 6, 7], [5, 6, 7, 8]]\n",
    "# [(1, 1), (2, 1), (3, 1), (1, 2), (2, 2), (3, 2), (1, 3), (2, 3), (3, 3)]"
   ]
  },
  {
   "cell_type": "code",
   "execution_count": 18,
   "metadata": {},
   "outputs": [
    {
     "name": "stdout",
     "output_type": "stream",
     "text": [
      "ACADGILD => ['A', 'C', 'A', 'D', 'G', 'I', 'L', 'D']\n"
     ]
    }
   ],
   "source": [
    "wd = 'ACADGILD'\n",
    "# wd_list=[]\n",
    "# for x in wd:\n",
    "#     wd_list.append(x)\n",
    "wd_list = [x for x in wd]\n",
    "print(\"ACADGILD => {}\".format(wd_list))"
   ]
  },
  {
   "cell_type": "code",
   "execution_count": 20,
   "metadata": {},
   "outputs": [
    {
     "name": "stdout",
     "output_type": "stream",
     "text": [
      "['x','y','z'] => ['x', 'xx', 'xxx', 'xxxx', 'y', 'yy', 'yyy', 'yyyy', 'z', 'zz', 'zzz', 'zzzz']\n"
     ]
    }
   ],
   "source": [
    "# ['x', 'xx', 'xxx', 'xxxx', 'y', 'yy', 'yyy', 'yyyy', 'z', 'zz', 'zzz', 'zzzz']\n",
    "myList=['x','y','z']\n",
    "myResult = [a*n for a in myList for n in range(1,5)]\n",
    "print(\"['x','y','z'] => {}\".format(myResult))"
   ]
  },
  {
   "cell_type": "code",
   "execution_count": 21,
   "metadata": {},
   "outputs": [
    {
     "name": "stdout",
     "output_type": "stream",
     "text": [
      "['x','y','z'] => ['x', 'y', 'z', 'xx', 'yy', 'zz', 'xxx', 'yyy', 'zzz', 'xxxx', 'yyyy', 'zzzz']\n"
     ]
    }
   ],
   "source": [
    "# ['x', 'y', 'z', 'xx', 'yy', 'zz', 'xx', 'yy', 'zz', 'xxxx', 'yyyy', 'zzzz']\n",
    "myList=['x','y','z']\n",
    "myResult = [a*n for n in range(1,5) for a in myList]\n",
    "print(\"['x','y','z'] => {}\".format(myResult))"
   ]
  },
  {
   "cell_type": "code",
   "execution_count": 26,
   "metadata": {},
   "outputs": [
    {
     "name": "stdout",
     "output_type": "stream",
     "text": [
      "[2,3,4] => [[2], [3], [4], [3], [4], [5], [4], [5], [6]]\n"
     ]
    }
   ],
   "source": [
    "# [[2], [3], [4], [3], [4], [5], [4], [5], [6]]\n",
    "myList = [2,3,4]\n",
    "myResult = [[a+n] for a in myList for n in range(0,3)] \n",
    "print(\"[2,3,4] => {}\".format(myResult))"
   ]
  },
  {
   "cell_type": "code",
   "execution_count": 32,
   "metadata": {},
   "outputs": [
    {
     "name": "stdout",
     "output_type": "stream",
     "text": [
      "[2,3,4,5] => [[2, 3, 4, 5], [3, 4, 5, 6], [4, 5, 6, 7], [5, 6, 7, 8]]\n"
     ]
    }
   ],
   "source": [
    "# [[2, 3, 4, 5], [3, 4, 5, 6], [4, 5, 6, 7], [5, 6, 7, 8]]\n",
    "myList = [2,3,4,5]\n",
    "myResult = [[a+n for a in myList] for n in range(0,4)]\n",
    "print(\"[2,3,4,5] => {}\".format(myResult))\n"
   ]
  },
  {
   "cell_type": "code",
   "execution_count": 43,
   "metadata": {},
   "outputs": [
    {
     "name": "stdout",
     "output_type": "stream",
     "text": [
      "[1,2,3] => [(1, 1), (2, 1), (3, 1), (1, 2), (2, 2), (3, 2), (1, 3), (2, 3), (3, 3)]\n"
     ]
    }
   ],
   "source": [
    "# [(1, 1), (2, 1), (3, 1), (1, 2), (2, 2), (3, 2), (1, 3), (2, 3), (3, 3)]\n",
    "myList = [1,2,3]\n",
    "myResult = [(b,a) for a in myList for b in myList]\n",
    "print(\"[1,2,3] => {}\".format(myResult))\n"
   ]
  },
  {
   "cell_type": "markdown",
   "metadata": {},
   "source": [
    "# 3. Implement a function longestWord() that takes a list of words and returns the longest one."
   ]
  },
  {
   "cell_type": "code",
   "execution_count": 51,
   "metadata": {},
   "outputs": [
    {
     "name": "stdout",
     "output_type": "stream",
     "text": [
      "Get longestWord in the List: Backend\n"
     ]
    }
   ],
   "source": [
    "def get_longest_word(input_list):\n",
    "    length = []  \n",
    "    for n in input_list:  \n",
    "        length.append((len(n), n))  \n",
    "    length.sort()  \n",
    "    return length[-1][1]  \n",
    "\n",
    "print(\"Get longestWord in the List: {}\".format(get_longest_word([\"Hello \", \"Hi\", \"Backend\"])))"
   ]
  },
  {
   "cell_type": "markdown",
   "metadata": {},
   "source": [
    "# Task 2:\n",
    "\n",
    "# Write a Python Program(with class concepts) to find the area of the triangle using the below formula.\n",
    "# area = (s*(s-a)*(s-b)*(s-c)) ** 0.5\n",
    "# Function to take the length of the sides of triangle from user should be defined in the parent class and function to calculate the area should be defined in subclass."
   ]
  },
  {
   "cell_type": "code",
   "execution_count": 1,
   "metadata": {},
   "outputs": [],
   "source": [
    "# Class is not cover"
   ]
  },
  {
   "cell_type": "markdown",
   "metadata": {},
   "source": [
    "# 1.2 Write a function filter_long_words() that takes a list of words and an integer n and returns the list of words that are longer than n."
   ]
  },
  {
   "cell_type": "code",
   "execution_count": 60,
   "metadata": {},
   "outputs": [],
   "source": [
    "def get_long_words(n, inputstr):\n",
    "    wdlen = []\n",
    "    swords = inputstr.split(\" \")\n",
    "    for x in swords:\n",
    "        if len(x) >= n:\n",
    "            wdlen.append(x)\n",
    "    return wdlen\n",
    "\n",
    "def main():\n",
    "    input_line = input(\"Please input the list of words: \")\n",
    "    input_integer = eval(input(\"Please input an integer: \"))\n",
    "    filterwords = get_long_words(input_integer, input_line)\n",
    "    \n",
    "    print(\"Longer Worlds in the List: {}\".format(filterwords))\n",
    "    "
   ]
  },
  {
   "cell_type": "code",
   "execution_count": 61,
   "metadata": {},
   "outputs": [
    {
     "name": "stdout",
     "output_type": "stream",
     "text": [
      "Please input the list of words: Hello Hi Bitbucket of ddd l eeee fff gggg hhhhh\n",
      "Please input an integer: 4\n",
      "Longer Worlds in the List: ['Hello', 'Bitbucket', 'eeee', 'gggg', 'hhhhh']\n"
     ]
    }
   ],
   "source": [
    "main()"
   ]
  },
  {
   "cell_type": "markdown",
   "metadata": {},
   "source": [
    "# 2.1   Write a Python program using function concept that maps list of words into a list of integers representing the lengths of the corresponding words .        Hint: If a list [ ab,cde,erty] is passed on to the python function output should come as [2,3,4].                                                                                                      Here 2,3 and 4 are the lengths of the words in the list."
   ]
  },
  {
   "cell_type": "code",
   "execution_count": 75,
   "metadata": {},
   "outputs": [
    {
     "name": "stdout",
     "output_type": "stream",
     "text": [
      "Word Length in List => [2, 7, 4, 2, 5]\n"
     ]
    }
   ],
   "source": [
    "# a\n",
    "wordList = [\"My\", \"Country\", \"Name\", \"is\", \"India\"]\n",
    "#Get the word Length\n",
    "def wordLength(wordList):\n",
    "    myList = list(map(len, wordList))\n",
    "    return myList\n",
    "\n",
    "print(\"Word Length in List => {}\".format(wordLength(wordList)))"
   ]
  },
  {
   "cell_type": "code",
   "execution_count": 82,
   "metadata": {},
   "outputs": [
    {
     "name": "stdout",
     "output_type": "stream",
     "text": [
      "Word Length in Line => [2, 7, 4, 2, 5]\n"
     ]
    }
   ],
   "source": [
    "# b\n",
    "wordLine = \"My country name is India\"\n",
    "def wordLength(wordLine):\n",
    "    myLine = list(map(len, wordLine.split()))\n",
    "    return myLine\n",
    "\n",
    "print(\"Word Length in Line => {}\".format(wordLength(wordLine)))\n"
   ]
  },
  {
   "cell_type": "markdown",
   "metadata": {},
   "source": [
    "# 2.2  Write a Python function which takes a character (i.e. a string of length 1) and returns True if it is a vowel, False otherwise."
   ]
  },
  {
   "cell_type": "code",
   "execution_count": 91,
   "metadata": {},
   "outputs": [],
   "source": [
    "def Isvowel(myChar):\n",
    "    vowels = 'aeiou'\n",
    "    if myChar.lower() in vowels:\n",
    "        return True\n",
    "    else:\n",
    "        return False\n",
    "def main():\n",
    "    testChar = input(\"Please input char: \")\n",
    "    print(\"Test Chart Result: {}\".format(Isvowel(testChar)))\n",
    "    "
   ]
  },
  {
   "cell_type": "code",
   "execution_count": 95,
   "metadata": {},
   "outputs": [
    {
     "name": "stdout",
     "output_type": "stream",
     "text": [
      "Please input char: e\n",
      "Test Chart Result: True\n"
     ]
    }
   ],
   "source": [
    "main()"
   ]
  },
  {
   "cell_type": "code",
   "execution_count": 96,
   "metadata": {},
   "outputs": [
    {
     "name": "stdout",
     "output_type": "stream",
     "text": [
      "Please input char: F\n",
      "Test Chart Result: False\n"
     ]
    }
   ],
   "source": [
    "main()"
   ]
  },
  {
   "cell_type": "code",
   "execution_count": null,
   "metadata": {},
   "outputs": [],
   "source": []
  }
 ],
 "metadata": {
  "kernelspec": {
   "display_name": "Python 3",
   "language": "python",
   "name": "python3"
  },
  "language_info": {
   "codemirror_mode": {
    "name": "ipython",
    "version": 3
   },
   "file_extension": ".py",
   "mimetype": "text/x-python",
   "name": "python",
   "nbconvert_exporter": "python",
   "pygments_lexer": "ipython3",
   "version": "3.7.4"
  }
 },
 "nbformat": 4,
 "nbformat_minor": 2
}
